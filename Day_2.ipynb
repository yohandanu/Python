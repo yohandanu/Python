{
 "cells": [
  {
   "cell_type": "code",
   "execution_count": 1,
   "id": "5a45a9d2",
   "metadata": {},
   "outputs": [
    {
     "name": "stdout",
     "output_type": "stream",
     "text": [
      "l\n"
     ]
    }
   ],
   "source": [
    "# Data Types\n",
    "\n",
    "# Strings: words\n",
    "# to check the specific character we use subscripting\n",
    "print(\"Hello\"[2])"
   ]
  },
  {
   "cell_type": "code",
   "execution_count": 2,
   "id": "fca678df",
   "metadata": {},
   "outputs": [
    {
     "name": "stdout",
     "output_type": "stream",
     "text": [
      "579\n"
     ]
    }
   ],
   "source": [
    "# Integer:whole numbers\n",
    "print(123+456)"
   ]
  },
  {
   "cell_type": "code",
   "execution_count": 3,
   "id": "b51b38c1",
   "metadata": {},
   "outputs": [
    {
     "name": "stdout",
     "output_type": "stream",
     "text": [
      "1580023\n"
     ]
    }
   ],
   "source": [
    "print(1_234_456+345_567)"
   ]
  },
  {
   "cell_type": "code",
   "execution_count": 4,
   "id": "01117893",
   "metadata": {},
   "outputs": [
    {
     "name": "stdout",
     "output_type": "stream",
     "text": [
      "6.0\n"
     ]
    }
   ],
   "source": [
    "# Float : decimals\n",
    "print(3.5+2.5)"
   ]
  },
  {
   "cell_type": "code",
   "execution_count": 5,
   "id": "ab281974",
   "metadata": {},
   "outputs": [],
   "source": [
    "# Boolean: True or False"
   ]
  },
  {
   "cell_type": "code",
   "execution_count": 11,
   "id": "51b14b4d",
   "metadata": {},
   "outputs": [
    {
     "name": "stdout",
     "output_type": "stream",
     "text": [
      "What is your name ?Yohan\n",
      "Your name has 5 characters.\n"
     ]
    }
   ],
   "source": [
    "num_char=len(input(\"What is your name ?\"))\n",
    "# print(\"Your name has \"+num_char+ \"characters\") , doesn't work since cannot add strings and integers\n",
    "new_num_char=str(num_char)\n",
    "print(\"Your name has \"+new_num_char+ \" characters.\")\n"
   ]
  },
  {
   "cell_type": "code",
   "execution_count": 17,
   "id": "a92ffd80",
   "metadata": {},
   "outputs": [
    {
     "data": {
      "text/plain": [
       "(int, float, str, bool)"
      ]
     },
     "execution_count": 17,
     "metadata": {},
     "output_type": "execute_result"
    }
   ],
   "source": [
    "a=5\n",
    "b=2.5\n",
    "c=\"abcd\"\n",
    "d=True\n",
    "# use type function\n",
    "type(a),type(b),type(c),type(d)"
   ]
  },
  {
   "cell_type": "code",
   "execution_count": 21,
   "id": "92db0023",
   "metadata": {},
   "outputs": [
    {
     "name": "stdout",
     "output_type": "stream",
     "text": [
      "Type a two digit number :23\n",
      "5\n"
     ]
    }
   ],
   "source": [
    "# type two digit number\n",
    "number=input(\"Type a two digit number :\")\n",
    "# you have to add those two digits and that's the output\n",
    "output=int(number[0])+int(number[1])\n",
    "# if you don't put int, it consider number[0] and number[1] as strings\n",
    "# print output\n",
    "print(output)"
   ]
  },
  {
   "cell_type": "code",
   "execution_count": 23,
   "id": "b265c39f",
   "metadata": {},
   "outputs": [
    {
     "name": "stdout",
     "output_type": "stream",
     "text": [
      "5\n",
      "-4\n",
      "12\n",
      "2.5\n",
      "8\n"
     ]
    }
   ],
   "source": [
    "print(2+3)\n",
    "print(5-9)\n",
    "print(2*6)\n",
    "print(5/2)\n",
    "print(2**3)"
   ]
  },
  {
   "cell_type": "code",
   "execution_count": 24,
   "id": "7469e694",
   "metadata": {},
   "outputs": [
    {
     "name": "stdout",
     "output_type": "stream",
     "text": [
      "7.0\n"
     ]
    }
   ],
   "source": [
    "print(3*3+3/3-3)\n",
    "# first 3x3=9, then 3/3=1 , add 9+1=10, subtract 10-3=7"
   ]
  },
  {
   "cell_type": "code",
   "execution_count": 25,
   "id": "fc12f3c7",
   "metadata": {},
   "outputs": [
    {
     "name": "stdout",
     "output_type": "stream",
     "text": [
      "enter your height in m: 1.8\n",
      "enter your weight in kg:97\n",
      "29\n"
     ]
    }
   ],
   "source": [
    "# BMI calculator bmi=weight(kg)/height**2(m**2)\n",
    "height=input(\"enter your height in m: \")\n",
    "weight=input(\"enter your weight in kg: \")\n",
    "bmi=int(weight)/float(height) ** 2\n",
    "bmi_as_int=int(bmi)\n",
    "print(bmi_as_int)\n"
   ]
  },
  {
   "cell_type": "code",
   "execution_count": 26,
   "id": "33a75b3b",
   "metadata": {},
   "outputs": [
    {
     "name": "stdout",
     "output_type": "stream",
     "text": [
      "2.6666666666666665\n"
     ]
    }
   ],
   "source": [
    "print(8/3)"
   ]
  },
  {
   "cell_type": "code",
   "execution_count": 27,
   "id": "35cd2032",
   "metadata": {},
   "outputs": [
    {
     "name": "stdout",
     "output_type": "stream",
     "text": [
      "3\n"
     ]
    }
   ],
   "source": [
    "# round the answer\n",
    "print(round(8/3))"
   ]
  },
  {
   "cell_type": "code",
   "execution_count": 30,
   "id": "ff7ff0ba",
   "metadata": {},
   "outputs": [
    {
     "name": "stdout",
     "output_type": "stream",
     "text": [
      "2.67\n"
     ]
    }
   ],
   "source": [
    "# round of  to 2dp\n",
    "print(round(2.6666,2))"
   ]
  },
  {
   "cell_type": "code",
   "execution_count": 31,
   "id": "f1c0ae29",
   "metadata": {},
   "outputs": [
    {
     "name": "stdout",
     "output_type": "stream",
     "text": [
      "2\n"
     ]
    }
   ],
   "source": [
    "# if you want integer answer only\n",
    "print(8//3)"
   ]
  },
  {
   "cell_type": "code",
   "execution_count": 6,
   "id": "3d9a8206",
   "metadata": {},
   "outputs": [
    {
     "name": "stdout",
     "output_type": "stream",
     "text": [
      "2\n"
     ]
    }
   ],
   "source": [
    "# if you want remainder\n",
    "print(8%3)"
   ]
  },
  {
   "cell_type": "code",
   "execution_count": 32,
   "id": "8bb94a82",
   "metadata": {},
   "outputs": [
    {
     "name": "stdout",
     "output_type": "stream",
     "text": [
      "1\n"
     ]
    }
   ],
   "source": [
    "x=0\n",
    "x+=1\n",
    "print(x)"
   ]
  },
  {
   "cell_type": "code",
   "execution_count": 33,
   "id": "e2f3ac47",
   "metadata": {},
   "outputs": [
    {
     "name": "stdout",
     "output_type": "stream",
     "text": [
      "4\n"
     ]
    }
   ],
   "source": [
    "y=5\n",
    "y-=1\n",
    "print(y)"
   ]
  },
  {
   "cell_type": "code",
   "execution_count": 34,
   "id": "1d5f86ed",
   "metadata": {},
   "outputs": [
    {
     "name": "stdout",
     "output_type": "stream",
     "text": [
      " your score is 0, your height is 1.8, you are winning is True\n"
     ]
    }
   ],
   "source": [
    "# f string : now you can print any data type\n",
    "score=0\n",
    "height=1.8\n",
    "isWinning=True\n",
    "#f string\n",
    "print(f\" your score is {score}, your height is {height}, you are winning is {isWinning}\")"
   ]
  },
  {
   "cell_type": "code",
   "execution_count": 1,
   "id": "d867d841",
   "metadata": {},
   "outputs": [
    {
     "name": "stdout",
     "output_type": "stream",
     "text": [
      "What is your current age ?42\n",
      "You have 17520 days, 2496 weeks and 576 months left\n"
     ]
    }
   ],
   "source": [
    "# create a program using maths and fstrings that tells how many days, weeks, months we have left if we live until 90 years old\n",
    "age=input(\"What is your current age ?\")\n",
    "age_left_in_years=90- int(age)\n",
    "age_left_in_days=age_left_in_years*365\n",
    "age_left_in_weeks=age_left_in_years*52\n",
    "age_left_in_months=age_left_in_years*12\n",
    "print(f\"You have {age_left_in_days} days, {age_left_in_weeks} weeks and {age_left_in_months} months left\")"
   ]
  },
  {
   "cell_type": "markdown",
   "id": "56e26af8",
   "metadata": {},
   "source": [
    "# Project : Tip Calculator\n"
   ]
  },
  {
   "cell_type": "code",
   "execution_count": 22,
   "id": "4ecc5e4a",
   "metadata": {},
   "outputs": [
    {
     "name": "stdout",
     "output_type": "stream",
     "text": [
      "Welcome to the tp calculator\n",
      "What is the total bill ? $100\n",
      "What percetage would you like to give ? 10 , 12 or 15 ?\n",
      "10\n",
      "How many people to split the bill ? 2\n",
      "Each person should pay: $55.00\n"
     ]
    }
   ],
   "source": [
    "print(\"Welcome to the tp calculator\")\n",
    "total_bill=input(\"What is the total bill ? $\")\n",
    "tip_percentage=input(f\"What percetage would you like to give ? {10} , {12} or {15} ?\\n\")\n",
    "number_of_people=input(\"How many people to split the bill ? \")\n",
    "total_amount=(int(total_bill)*(int(tip_percentage)+100))/100\n",
    "amount_per_person=round(total_amount/int(number_of_people),2)\n",
    "amount_per_person=\"{:.2f}\".format(amount_per_person)\n",
    "print(f\"Each person should pay: ${amount_per_person}\")"
   ]
  }
 ],
 "metadata": {
  "kernelspec": {
   "display_name": "Python 3 (ipykernel)",
   "language": "python",
   "name": "python3"
  },
  "language_info": {
   "codemirror_mode": {
    "name": "ipython",
    "version": 3
   },
   "file_extension": ".py",
   "mimetype": "text/x-python",
   "name": "python",
   "nbconvert_exporter": "python",
   "pygments_lexer": "ipython3",
   "version": "3.9.12"
  }
 },
 "nbformat": 4,
 "nbformat_minor": 5
}
