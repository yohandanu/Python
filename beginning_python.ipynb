{
 "cells": [
  {
   "cell_type": "code",
   "execution_count": 1,
   "metadata": {
    "colab": {
     "base_uri": "https://localhost:8080/"
    },
    "id": "MvaZMBV5vI86",
    "outputId": "e33059b4-55bf-4d91-ba74-eb749653e8ea"
   },
   "outputs": [
    {
     "name": "stdout",
     "output_type": "stream",
     "text": [
      "Hello World\n"
     ]
    }
   ],
   "source": [
    "# print function\n",
    "# print \"Hello World\"\n",
    "print(\"Hello World\")"
   ]
  },
  {
   "cell_type": "code",
   "execution_count": 2,
   "metadata": {
    "colab": {
     "base_uri": "https://localhost:8080/"
    },
    "id": "BTt2VSqavhzf",
    "outputId": "7912fd9a-5063-4620-fbd0-63fee9ab8782"
   },
   "outputs": [
    {
     "name": "stdout",
     "output_type": "stream",
     "text": [
      "HelloWorld\n"
     ]
    }
   ],
   "source": [
    "# use print function using + with strings\n",
    "print(\"Hello\"+ \"World\")"
   ]
  },
  {
   "cell_type": "code",
   "execution_count": 3,
   "metadata": {
    "colab": {
     "base_uri": "https://localhost:8080/"
    },
    "id": "aMjG7Et9wBk7",
    "outputId": "434e4028-a4c5-4893-b819-04199a927955"
   },
   "outputs": [
    {
     "name": "stdout",
     "output_type": "stream",
     "text": [
      "Hello World\n"
     ]
    }
   ],
   "source": [
    "# so strings are bonded no gaps, fix by adding space to the first string\n",
    "print(\"Hello \" + \"World\")"
   ]
  },
  {
   "cell_type": "code",
   "execution_count": 5,
   "metadata": {
    "colab": {
     "base_uri": "https://localhost:8080/"
    },
    "id": "4q2YiZguwRDT",
    "outputId": "c70818e2-ef4e-48a5-8f4f-f3921e1ec8e0"
   },
   "outputs": [
    {
     "name": "stdout",
     "output_type": "stream",
     "text": [
      "Hello World\n"
     ]
    }
   ],
   "source": [
    "# or you can add blank \" \"\n",
    "print(\"Hello\"+\" \"+\"World\")"
   ]
  },
  {
   "cell_type": "code",
   "execution_count": 6,
   "metadata": {
    "colab": {
     "base_uri": "https://localhost:8080/",
     "height": 53
    },
    "id": "vPiwIM2TwfRE",
    "outputId": "89a95787-924f-4999-9105-84add196b35f"
   },
   "outputs": [
    {
     "name": "stdout",
     "output_type": "stream",
     "text": [
      "What's your name ?Yohan\n"
     ]
    },
    {
     "data": {
      "application/vnd.google.colaboratory.intrinsic+json": {
       "type": "string"
      },
      "text/plain": [
       "'Yohan'"
      ]
     },
     "execution_count": 6,
     "metadata": {},
     "output_type": "execute_result"
    }
   ],
   "source": [
    "# input function\n",
    "# takes input from the user\n",
    "input(\"What's your name ?\")"
   ]
  },
  {
   "cell_type": "code",
   "execution_count": 8,
   "metadata": {
    "colab": {
     "base_uri": "https://localhost:8080/"
    },
    "id": "C7AWjB93w3iU",
    "outputId": "7db6b080-8b07-4c13-c31f-95396e84c670"
   },
   "outputs": [
    {
     "name": "stdout",
     "output_type": "stream",
     "text": [
      "What's your name? yohan\n",
      "5\n"
     ]
    }
   ],
   "source": [
    "# len function\n",
    "# finds how many characters in the string\n",
    "# let's find how many characters in your first name\n",
    "print(len(input(\"What's your name? \")))"
   ]
  },
  {
   "cell_type": "code",
   "execution_count": 10,
   "metadata": {
    "colab": {
     "base_uri": "https://localhost:8080/"
    },
    "id": "D1Wy39bFxlCm",
    "outputId": "ef4b4f18-b0d6-43a3-ca82-769684372219"
   },
   "outputs": [
    {
     "name": "stdout",
     "output_type": "stream",
     "text": [
      "jack\n",
      "Anjela\n"
     ]
    }
   ],
   "source": [
    "# variables\n",
    "name=\"jack\"\n",
    "print(name)\n",
    "name=\"Anjela\"\n",
    "print(name)"
   ]
  },
  {
   "cell_type": "code",
   "execution_count": 11,
   "metadata": {
    "colab": {
     "base_uri": "https://localhost:8080/"
    },
    "id": "U6GnFN3_6FoQ",
    "outputId": "98f50f31-ebaf-4670-ddeb-5d234e2ff544"
   },
   "outputs": [
    {
     "name": "stdout",
     "output_type": "stream",
     "text": [
      "What's your name ?Yohan\n",
      "5\n"
     ]
    }
   ],
   "source": [
    "# let's use variable to compile print(len(input(\"What's your name ?\")))\n",
    "name=input(\"What's your name ?\")\n",
    "length=len(name)\n",
    "print(length)"
   ]
  },
  {
   "cell_type": "code",
   "execution_count": 19,
   "metadata": {
    "colab": {
     "base_uri": "https://localhost:8080/"
    },
    "id": "3vU_l90_652U",
    "outputId": "6eef8320-18e6-4172-febc-47105990b754"
   },
   "outputs": [
    {
     "name": "stdout",
     "output_type": "stream",
     "text": [
      "a:3\n",
      "b:5\n",
      "a=5\n",
      "b=3\n"
     ]
    }
   ],
   "source": [
    "from re import A\n",
    "# write a code that switches the values stored in the variables a and b\n",
    "a=input(\"a:\")\n",
    "b=input(\"b:\")\n",
    "c=a\n",
    "a=b\n",
    "b=c\n",
    "print(\"a=\"+a)\n",
    "print(\"b=\"+b)"
   ]
  },
  {
   "cell_type": "markdown",
   "metadata": {
    "id": "eWetNsXH7sRm"
   },
   "source": [
    "# Project 1: Band Name Generator"
   ]
  },
  {
   "cell_type": "code",
   "execution_count": 5,
   "metadata": {},
   "outputs": [
    {
     "name": "stdout",
     "output_type": "stream",
     "text": [
      "Hello, Welcome to the band name generator\n",
      "Which city did you grow up in ?\n",
      "Homagama\n",
      "What is the name of your favourite pet ?\n",
      "Lazzy\n",
      "Your Band name could be : Homagama Lazzy\n"
     ]
    }
   ],
   "source": [
    "#1 create a greeting for your programme\n",
    "print(\"Hello, Welcome to the band name generator\")\n",
    "#2 ask the user for the city that they grew up in\n",
    "city=input(\"Which city did you grow up in ?\\n\")\n",
    "#3 ask the user for the name of a pet\n",
    "pet=input(\"What is the name of your favourite pet ?\\n\")\n",
    "#4 combine the name of their city and pet and show their band name\n",
    "print(\"Your Band name could be : \" +city+\" \"+pet)"
   ]
  },
  {
   "cell_type": "code",
   "execution_count": null,
   "metadata": {},
   "outputs": [],
   "source": []
  }
 ],
 "metadata": {
  "colab": {
   "provenance": []
  },
  "kernelspec": {
   "display_name": "Python 3 (ipykernel)",
   "language": "python",
   "name": "python3"
  },
  "language_info": {
   "codemirror_mode": {
    "name": "ipython",
    "version": 3
   },
   "file_extension": ".py",
   "mimetype": "text/x-python",
   "name": "python",
   "nbconvert_exporter": "python",
   "pygments_lexer": "ipython3",
   "version": "3.9.12"
  }
 },
 "nbformat": 4,
 "nbformat_minor": 1
}
